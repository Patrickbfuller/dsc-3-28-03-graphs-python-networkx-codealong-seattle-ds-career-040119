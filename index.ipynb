{
 "cells": [
  {
   "cell_type": "markdown",
   "metadata": {},
   "source": [
    "# NetworkX Introduction\n",
    "\n",
    "## Introduction\n",
    "\n",
    "The primary package for analyzing network graphs in Python is NetworkX. In this lesson you'll get a brief introduction to the package, recreating the basic graphs from the previous lesson by adding nodes and edges and then creating a visual.\n",
    "\n",
    "## Objectives\n",
    "\n",
    "You will be able to:\n",
    "* Create basic network graphs using NetworkX\n",
    "* Add nodes to network graphs with NetworkX\n",
    "* Add edges to network graphs with NetworkX\n",
    "* Visualize network graphs with NetworkX"
   ]
  },
  {
   "cell_type": "markdown",
   "metadata": {},
   "source": [
    "## Creating a Graph\n",
    "\n",
    "Creating the initial graph is incredible simple. Observe:"
   ]
  },
  {
   "cell_type": "code",
   "execution_count": 1,
   "metadata": {},
   "outputs": [],
   "source": [
    "import networkx as nx\n",
    "G = nx.Graph()"
   ]
  },
  {
   "cell_type": "markdown",
   "metadata": {},
   "source": [
    "## Adding Nodes\n",
    "\n",
    "From there, adding nodes is just as easy. Simply call the `add_node` method from you graph instance."
   ]
  },
  {
   "cell_type": "code",
   "execution_count": 2,
   "metadata": {},
   "outputs": [],
   "source": [
    "G.add_node(\"Bob\")"
   ]
  },
  {
   "cell_type": "markdown",
   "metadata": {},
   "source": [
    "Of course, you can also combine this with some of your previous Python prowess!"
   ]
  },
  {
   "cell_type": "code",
   "execution_count": 3,
   "metadata": {},
   "outputs": [],
   "source": [
    "people = [\"Sally\", \"Kate\", \"Jen\", \"Jake\", \"Doug\"]\n",
    "for person in people:\n",
    "    G.add_node(person)"
   ]
  },
  {
   "cell_type": "code",
   "execution_count": 5,
   "metadata": {},
   "outputs": [
    {
     "data": {
      "text/plain": [
       "NodeView(('Bob', 'Sally', 'Kate', 'Jen', 'Jake', 'Doug'))"
      ]
     },
     "execution_count": 5,
     "metadata": {},
     "output_type": "execute_result"
    }
   ],
   "source": [
    "G.nodes"
   ]
  },
  {
   "cell_type": "markdown",
   "metadata": {},
   "source": [
    "## Adding Edges\n",
    "\n",
    "Similarly, adding edges is also quite straightforward."
   ]
  },
  {
   "cell_type": "code",
   "execution_count": 6,
   "metadata": {},
   "outputs": [],
   "source": [
    "G.add_edge(\"Bob\", \"Sally\")"
   ]
  },
  {
   "cell_type": "markdown",
   "metadata": {},
   "source": [
    "Once again, you can also take advantage of your knowledge of python data structures to create a nested data structure and then feed these pairs into the `add_edge` method."
   ]
  },
  {
   "cell_type": "code",
   "execution_count": 7,
   "metadata": {},
   "outputs": [],
   "source": [
    "relations = {\"Bob\": [\"Jen\", \"Kate\"],\n",
    "            \"Jen\": [\"Bob\", \"Sally\", \"Jake\", \"Doug\", \"Kate\"],\n",
    "            \"Doug\": [\"Bob\"]\n",
    "            }\n",
    "for p1 in relations.keys():\n",
    "    p2s = relations[p1]\n",
    "    for p2 in p2s:\n",
    "        G.add_edge(p1, p2)"
   ]
  },
  {
   "cell_type": "markdown",
   "metadata": {},
   "source": [
    "## Visualizing the Graph\n",
    "\n",
    "Finally, let's take a look at visualizing this graph! The only required parameter to `nx.draw()` is specifying the graph itself. In addition, demonstrated below are a number of optional parameters:\n",
    "* with_labels (boolean) - would you like labels for your nodes?\n",
    "* node_color (color) - what color do you want your nodes?\n",
    "* node_size (real) - how big do you want your nodes? (300 is default)\n",
    "* alpha (real) - node transparency, must be between 0 and 1, 1 being the default\n",
    "* font_weight (string) - additional formatting for the label text"
   ]
  },
  {
   "cell_type": "code",
   "execution_count": 10,
   "metadata": {},
   "outputs": [
    {
     "name": "stderr",
     "output_type": "stream",
     "text": [
      "/opt/conda/envs/learn-env/lib/python3.6/site-packages/networkx/drawing/nx_pylab.py:611: MatplotlibDeprecationWarning: isinstance(..., numbers.Number)\n",
      "  if cb.is_numlike(alpha):\n"
     ]
    },
    {
     "data": {
      "image/png": "[encoded data removed]",
      "text/plain": [
       "<Figure size 432x288 with 1 Axes>"
      ]
     },
     "metadata": {},
     "output_type": "display_data"
    }
   ],
   "source": [
    "%matplotlib inline\n",
    "nx.draw(G, with_labels=True, node_color=\"#1cf0c7\", node_size=1500, alpha=.7, font_weight=\"bold\",)"
   ]
  },
  {
   "cell_type": "markdown",
   "metadata": {},
   "source": [
    "## Additional Resources\n",
    "* [NetworkX General Documentation](https://networkx.github.io/documentation/stable/index.html)\n",
    "* [NetworkX Drawing Options Documentation](https://networkx.github.io/documentation/networkx-1.10/reference/generated/networkx.drawing.nx_pylab.draw_networkx_nodes.html)"
   ]
  },
  {
   "cell_type": "markdown",
   "metadata": {},
   "source": [
    "## Summary\n",
    "\n",
    "Well done! In this lab, you got a brief introduction to using NetworkX to create and visualize graph networks. In the upcoming lab, you'll get a chance to further practice these skills before moving on to common algorithms and metrics for processing and interpreting network graphs."
   ]
  }
 ],
 "metadata": {
  "kernelspec": {
   "display_name": "Python 3",
   "language": "python",
   "name": "python3"
  },
  "language_info": {
   "codemirror_mode": {
    "name": "ipython",
    "version": 3
   },
   "file_extension": ".py",
   "mimetype": "text/x-python",
   "name": "python",
   "nbconvert_exporter": "python",
   "pygments_lexer": "ipython3",
   "version": "3.6.6"
  }
 },
 "nbformat": 4,
 "nbformat_minor": 2
}
